{
 "cells": [
  {
   "cell_type": "code",
   "execution_count": null,
   "metadata": {},
   "outputs": [],
   "source": [
    "# -*- coding: utf-8 -*-\n",
    "\n",
    "#import talib\n",
    "import matplotlib.pyplot as plt\n",
    "import numpy as np\n",
    "import tensorflow as tf\n",
    "from sklearn import datasets\n",
    "from pylab import mpl\n",
    "import pandas"
   ]
  },
  {
   "cell_type": "code",
   "execution_count": null,
   "metadata": {},
   "outputs": [],
   "source": [
    "company_name = 'GOOG' # stock code\n",
    "path = './data/' + company_name # file path\n",
    "duration = 365 # duration for total training sets\n",
    "future_duration = 1 # future duration to determine labels\n"
   ]
  },
  {
   "cell_type": "code",
   "execution_count": null,
   "metadata": {},
   "outputs": [],
   "source": []
  },
  {
   "cell_type": "code",
   "execution_count": null,
   "metadata": {},
   "outputs": [],
   "source": []
  },
  {
   "cell_type": "code",
   "execution_count": null,
   "metadata": {},
   "outputs": [],
   "source": [
    "# data processing\n",
    "# get historical price\n",
    "all_price = pandas.read_csv(path + '_history.csv', header = 0, sep = ',', names = ['date', 'volume', 'close', 'high', 'open', 'low'])\n",
    "price = all_price.tail(duration).reset_index(drop = True)\n",
    "#print price\n",
    "\n",
    "# get ema\n",
    "all_ema = pandas.read_csv(path + '_ema.csv', header = 0, sep = ',')\n",
    "ema = all_ema.tail(duration).head(duration - 1).reset_index(drop = True)\n",
    "#print ema\n",
    "\n",
    "#get macd\n",
    "all_macd = pandas.read_csv(path + '_macd.csv', header = 0, sep = ',')\n",
    "macd = all_macd.tail(duration).head(duration - 1).reset_index(drop = True)\n",
    "#print macd\n",
    "\n",
    "#get obv\n",
    "all_obv = pandas.read_csv(path + '_obv.csv', header = 0, sep = ',')\n",
    "obv = all_obv.tail(duration).head(duration - 1).reset_index(drop = True)\n",
    "#print obv\n",
    "\n",
    "#get rsi\n",
    "all_rsi = pandas.read_csv(path + '_rsi.csv', header = 0, sep = ',')\n",
    "rsi = all_rsi.tail(duration).head(duration - 1).reset_index(drop = True)\n",
    "#print rsi\n",
    "\n",
    "#get stoch\n",
    "all_stoch = pandas.read_csv(path + '_stoch.csv', header = 0, sep = ',')\n",
    "stoch = all_stoch.tail(duration).head(duration - 1).reset_index(drop = True)\n",
    "#print stoch\n",
    "\n"
   ]
  },
  {
   "cell_type": "code",
   "execution_count": null,
   "metadata": {},
   "outputs": [],
   "source": [
    "# ema, macd, obv, rsi, #stoch\n",
    "features = np.stack((ema.EMA.values, macd.MACD.values, obv.OBV.values, rsi.CCI.values), axis = 1)\n",
    "print len(features)\n",
    "print features"
   ]
  },
  {
   "cell_type": "code",
   "execution_count": null,
   "metadata": {},
   "outputs": [],
   "source": []
  },
  {
   "cell_type": "code",
   "execution_count": null,
   "metadata": {},
   "outputs": [],
   "source": [
    "labels = []\n",
    "for i in range(duration -future_duration):\n",
    "    labels.append(1 if price.close[i + future_duration] >= price.close[i] else 0)\n",
    "print len(labels)\n",
    "print labels\n",
    "#print price [['date','close']]"
   ]
  },
  {
   "cell_type": "code",
   "execution_count": null,
   "metadata": {},
   "outputs": [],
   "source": []
  },
  {
   "cell_type": "code",
   "execution_count": null,
   "metadata": {},
   "outputs": [],
   "source": []
  },
  {
   "cell_type": "code",
   "execution_count": null,
   "metadata": {},
   "outputs": [],
   "source": [
    "# SVM in TensorFlow\n",
    "\n",
    "np.random.seed(1)\n",
    "tf.set_random_seed(1)\n",
    "\n",
    "sess=tf.Session()\n",
    "\n",
    "x_vals=features\n",
    "y_vals=labels\n",
    "\n",
    "train_test_split = np.random.rand(len(features)) < 0.70 # randomly divide training sets and test sets\n",
    "x_vals_train = features[train_test_split]\n",
    "y_vals_train = np.array(labels)[train_test_split]\n",
    "x_vals_test = features[~train_test_split]\n",
    "y_vals_test = np.array(labels)[~train_test_split]\n",
    "\n",
    "# batch\n",
    "batch_size = 1\n",
    "x_data = tf.placeholder(shape=[None, 4], dtype=tf.float32)\n",
    "y_target = tf.placeholder(shape=[None, 1], dtype=tf.float32)\n",
    "W = tf.Variable(tf.random_normal(shape=[4,1]))\n",
    "b = tf.Variable(tf.random_normal(shape=[1,1]))\n",
    "\n",
    "model_output=tf.matmul(x_data,W)+b\n",
    "l2_norm = tf.reduce_sum(tf.square(W))\n",
    "# regularization\n",
    "alpha = tf.constant([0.1])\n",
    "# loss function\n",
    "classification_term = tf.reduce_mean(tf.maximum(0.,1.-model_output*y_target))\n",
    "loss = classification_term+alpha*l2_norm\n",
    "# output\n",
    "prediction = tf.sign(model_output)\n",
    "accuracy = tf.reduce_mean(tf.cast(tf.equal(prediction, y_target),tf.float32))\n",
    "train_step=tf.train.GradientDescentOptimizer(0.001).minimize(loss)\n",
    "# train\n",
    "sess.run(tf.global_variables_initializer())\n",
    "loss_vec = []\n",
    "train_accuracy = []\n",
    "test_accuracy = []\n",
    "for i in range(duration):\n",
    "    rand_index = np.random.choice(len(x_vals_train), size=batch_size)\n",
    "    rand_x = x_vals_train[rand_index]\n",
    "    rand_y = np.transpose([y_vals_train[rand_index]])\n",
    "    sess.run(train_step, feed_dict={x_data: rand_x, y_target:rand_y})\n",
    "    temp_loss = sess.run(loss, feed_dict={x_data: rand_x, y_target: rand_y})\n",
    "    loss_vec.append(temp_loss)\n",
    "    train_acc_temp = sess.run(accuracy, feed_dict={x_data: x_vals_train, y_target: np.transpose([y_vals_train])})\n",
    "    train_accuracy.append(train_acc_temp)\n",
    "    test_acc_temp = sess.run(accuracy, feed_dict={x_data: x_vals_test, y_target: np.transpose([y_vals_test])})\n",
    "    test_accuracy.append(test_acc_temp)\n",
    "    if (i+1)%100==0:\n",
    "        print('Step #' + str(i+1) + ' W = ' + str(sess.run(W)) + 'b = ' + str(sess.run(b)))\n",
    "        print('Loss = ' + str(test_acc_temp))\n",
    "plt.plot(loss_vec)\n",
    "plt.plot(train_accuracy)\n",
    "plt.plot(test_accuracy)\n",
    "plt.legend(['Loss','Train Accuracy','Test Accuracy'])\n",
    "plt.ylim(0.,1.)\n"
   ]
  },
  {
   "cell_type": "code",
   "execution_count": null,
   "metadata": {},
   "outputs": [],
   "source": []
  }
 ],
 "metadata": {
  "kernelspec": {
   "display_name": "Python 2",
   "language": "python",
   "name": "python2"
  },
  "language_info": {
   "codemirror_mode": {
    "name": "ipython",
    "version": 2
   },
   "file_extension": ".py",
   "mimetype": "text/x-python",
   "name": "python",
   "nbconvert_exporter": "python",
   "pygments_lexer": "ipython2",
   "version": "2.7.14"
  }
 },
 "nbformat": 4,
 "nbformat_minor": 2
}
