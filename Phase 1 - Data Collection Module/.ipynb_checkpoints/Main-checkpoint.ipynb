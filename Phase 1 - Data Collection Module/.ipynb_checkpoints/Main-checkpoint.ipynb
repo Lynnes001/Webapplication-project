{
 "cells": [
  {
   "cell_type": "code",
   "execution_count": 1,
   "metadata": {},
   "outputs": [],
   "source": [
    "import sys \n",
    "sys.path.append('Xin_Yang_Historical_Python')\n",
    "sys.path.append('Song_Yang_Realtime_Python')\n",
    "sys.path.append('SQL')\n",
    "\n",
    "\n",
    "import time\n",
    "\n",
    "from Xin_Yang_Historical_Data import getHistoricalData, getURL\n",
    "from Song_Yang_Realtime_Data import getRealtimeStock\n",
    "from mysql_functions import dbInsertStock, dbInsertRealTime, dbInsertHistoryTime"
   ]
  },
  {
   "cell_type": "code",
   "execution_count": 2,
   "metadata": {},
   "outputs": [
    {
     "name": "stdout",
     "output_type": "stream",
     "text": [
      "['NFLX', 290.39, '2018-03-01 17:52:59', 126014169088L]\n",
      "INSERT INTO Real_Time_Data(symbol, price, stock_time, volume) \n",
      "\t\t\tVALUES(list[0], list[1], list[2], list[3])\n"
     ]
    },
    {
     "ename": "NameError",
     "evalue": "name 'time' is not defined",
     "output_type": "error",
     "traceback": [
      "\u001b[1;31m\u001b[0m",
      "\u001b[1;31mNameError\u001b[0mTraceback (most recent call last)",
      "\u001b[1;32m<ipython-input-2-df58cd7aa68e>\u001b[0m in \u001b[0;36m<module>\u001b[1;34m()\u001b[0m\n\u001b[0;32m      9\u001b[0m         \u001b[0mlist\u001b[0m \u001b[1;33m=\u001b[0m \u001b[1;33m[\u001b[0m\u001b[0msymbol\u001b[0m\u001b[1;33m,\u001b[0m \u001b[0mprice\u001b[0m\u001b[1;33m,\u001b[0m \u001b[0mstock_time\u001b[0m\u001b[1;33m,\u001b[0m \u001b[0mvolume\u001b[0m\u001b[1;33m]\u001b[0m\u001b[1;33m\u001b[0m\u001b[0m\n\u001b[0;32m     10\u001b[0m \t'''\n\u001b[1;32m---> 11\u001b[1;33m     \u001b[0mtime\u001b[0m\u001b[1;33m.\u001b[0m\u001b[0msleep\u001b[0m\u001b[1;33m(\u001b[0m\u001b[1;36m1\u001b[0m\u001b[1;33m)\u001b[0m\u001b[1;33m\u001b[0m\u001b[0m\n\u001b[0m",
      "\u001b[1;31mNameError\u001b[0m: name 'time' is not defined"
     ]
    }
   ],
   "source": [
    "# realtime 1s interval\n",
    "prevdata = 0\n",
    "for i in range(100):\n",
    "    realtimeInfo = getRealtimeStock(\"NFLX\")\n",
    "    print realtimeInfo\n",
    "    dbInsertRealTime(realtimeInfo)\n",
    "    \n",
    "    '''\n",
    "\tlist = [symbol, price, stock_time, volume]\n",
    "\t'''\n",
    "    time.sleep(1)"
   ]
  },
  {
   "cell_type": "code",
   "execution_count": 27,
   "metadata": {},
   "outputs": [
    {
     "name": "stdout",
     "output_type": "stream",
     "text": [
      "(290.39, 'Thu Mar 01 16:23:18 2018')\n"
     ]
    },
    {
     "ename": "KeyboardInterrupt",
     "evalue": "",
     "output_type": "error",
     "traceback": [
      "\u001b[1;31m\u001b[0m",
      "\u001b[1;31mKeyboardInterrupt\u001b[0mTraceback (most recent call last)",
      "\u001b[1;32m<ipython-input-27-ddfade0a37b7>\u001b[0m in \u001b[0;36m<module>\u001b[1;34m()\u001b[0m\n\u001b[0;32m      6\u001b[0m         \u001b[0mprevdata\u001b[0m \u001b[1;33m=\u001b[0m \u001b[0mrealtimeInfo\u001b[0m\u001b[1;33m[\u001b[0m\u001b[1;36m2\u001b[0m\u001b[1;33m]\u001b[0m\u001b[1;33m\u001b[0m\u001b[0m\n\u001b[0;32m      7\u001b[0m         \u001b[1;32mprint\u001b[0m \u001b[1;33m(\u001b[0m\u001b[0mprevdata\u001b[0m\u001b[1;33m,\u001b[0m \u001b[0mtime\u001b[0m\u001b[1;33m.\u001b[0m\u001b[0masctime\u001b[0m\u001b[1;33m(\u001b[0m \u001b[0mtime\u001b[0m\u001b[1;33m.\u001b[0m\u001b[0mlocaltime\u001b[0m\u001b[1;33m(\u001b[0m\u001b[0mrealtimeInfo\u001b[0m\u001b[1;33m[\u001b[0m\u001b[1;36m3\u001b[0m\u001b[1;33m]\u001b[0m\u001b[1;33m)\u001b[0m\u001b[1;33m)\u001b[0m \u001b[1;33m)\u001b[0m\u001b[1;33m\u001b[0m\u001b[0m\n\u001b[1;32m----> 8\u001b[1;33m     \u001b[0mtime\u001b[0m\u001b[1;33m.\u001b[0m\u001b[0msleep\u001b[0m\u001b[1;33m(\u001b[0m\u001b[1;36m1\u001b[0m\u001b[1;33m)\u001b[0m\u001b[1;33m\u001b[0m\u001b[0m\n\u001b[0m",
      "\u001b[1;31mKeyboardInterrupt\u001b[0m: "
     ]
    }
   ],
   "source": [
    "# realtime 60s interval\n",
    "prevdata = 0\n",
    "for i in range(100):\n",
    "    realtimeInfo = getRealtimeStock(\"NFLX\")\n",
    "    if ( prevdata != realtimeInfo[2] ):\n",
    "        prevdata = realtimeInfo[2]\n",
    "        print (prevdata, time.asctime( time.localtime(realtimeInfo[3])) )\n",
    "    time.sleep(1)"
   ]
  },
  {
   "cell_type": "code",
   "execution_count": null,
   "metadata": {},
   "outputs": [],
   "source": [
    "# historical\n",
    "google = getHistoricalData(getURL(\"GOOG\"))\n",
    "\n",
    "\n",
    "print len(google) # record numbers\n",
    "#print google\n",
    "print google[0] # first record\n",
    "print google[251] # last record\n",
    "print google[0][1] # date of first record\n",
    "\n",
    "yahoo = getHistoricalData(getURL(\"AABA\"))\n",
    "\n",
    "print len(yahoo)\n",
    "print yahoo[0]\n",
    "print yahoo[251]"
   ]
  }
 ],
 "metadata": {
  "kernelspec": {
   "display_name": "Python 2",
   "language": "python",
   "name": "python2"
  },
  "language_info": {
   "codemirror_mode": {
    "name": "ipython",
    "version": 2
   },
   "file_extension": ".py",
   "mimetype": "text/x-python",
   "name": "python",
   "nbconvert_exporter": "python",
   "pygments_lexer": "ipython2",
   "version": "2.7.14"
  }
 },
 "nbformat": 4,
 "nbformat_minor": 2
}
