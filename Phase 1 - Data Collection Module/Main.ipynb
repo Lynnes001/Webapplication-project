{
 "cells": [
  {
   "cell_type": "code",
   "execution_count": 40,
   "metadata": {},
   "outputs": [],
   "source": [
    "import sys \n",
    "sys.path.append('Xin_Yang_Historical_Python')\n",
    "sys.path.append('Song_Yang_Realtime_Python')\n",
    "sys.path.append('SQL')\n",
    "\n",
    "import time\n",
    "import os\n",
    "import multiprocessing\n",
    "import threading\n",
    "\n",
    "from Xin_Yang_Historical_Data import getHistoricalData, getURL\n",
    "from Song_Yang_Realtime_Data import getRealtimeStock\n",
    "from mysql_functions import dbInsertStock, dbInsertRealTime, dbInsertHistoryTime"
   ]
  },
  {
   "cell_type": "code",
   "execution_count": 45,
   "metadata": {},
   "outputs": [],
   "source": [
    "def RealtimeStock(StockName):\n",
    "    name = multiprocessing.current_process().name\n",
    "    print name, 'Starting'\n",
    "    while 1:\n",
    "        realtimeInfo = getRealtimeStock(StockName)\n",
    "        print realtimeInfo\n",
    "        dbInsertRealTime(realtimeInfo)\n",
    "        time.sleep(1)\n",
    "        \n",
    "def StopRealtimeStock(RealtimeStockService):\n",
    "    name = multiprocessing.current_process().name\n",
    "    print name, 'Exiting'\n",
    "    RealtimeStockService.terminate()\n",
    "    print 'TERMINATED:', RealtimeStockService, RealtimeStockService.is_alive()\n",
    "    RealtimeStockService.join()\n",
    "    print 'JOINED:', RealtimeStockService, RealtimeStockService.is_alive()\n",
    "    \n",
    "def main(argv1, argv2):\n",
    "    runtime = argv2\n",
    "    stockname = argv1\n",
    "    RealtimeStockService = multiprocessing.Process(name='RealtimeStockService', target=RealtimeStock(stockname))\n",
    "    RealtimeStockService.start()\n",
    "    print 'DURING:', RealtimeStockService, RealtimeStockService.is_alive()\n",
    "    time.sleep(float(runtime))\n",
    "    StopRealtimeStock(RealtimeStockService)"
   ]
  },
  {
   "cell_type": "code",
   "execution_count": 44,
   "metadata": {},
   "outputs": [
    {
     "name": "stdout",
     "output_type": "stream",
     "text": [
      "-f\n",
      "DURING: <Process(RealtimeStockService, started)> True\n"
     ]
    }
   ],
   "source": [
    "# realtime 60s\n",
    "if __name__ == '__main__':\n",
    "    main(str(sys.argv[1]), str(sys.argv[2]))"
   ]
  },
  {
   "cell_type": "code",
   "execution_count": null,
   "metadata": {},
   "outputs": [],
   "source": [
    "# historical\n",
    "google = getHistoricalData(getURL(\"GOOG\"))\n",
    "\n",
    "\n",
    "print len(google) # record numbers\n",
    "#print google\n",
    "print google[0] # first record\n",
    "print google[251] # last record\n",
    "print google[0][1] # date of first record\n",
    "\n",
    "yahoo = getHistoricalData(getURL(\"AABA\"))\n",
    "\n",
    "print len(yahoo)\n",
    "print yahoo[0]\n",
    "print yahoo[251]"
   ]
  },
  {
   "cell_type": "code",
   "execution_count": null,
   "metadata": {},
   "outputs": [],
   "source": [
    "def my_fork():\n",
    "    child_pid = os.fork()\n",
    "    if child_pid == 0:\n",
    "        print \"Child Process: PID# %s\" % os.getpid()\n",
    "    else:\n",
    "        print \"Parent Process: PID# %s\" % os.getpid()"
   ]
  }
 ],
 "metadata": {
  "kernelspec": {
   "display_name": "Python 2",
   "language": "python",
   "name": "python2"
  },
  "language_info": {
   "codemirror_mode": {
    "name": "ipython",
    "version": 2
   },
   "file_extension": ".py",
   "mimetype": "text/x-python",
   "name": "python",
   "nbconvert_exporter": "python",
   "pygments_lexer": "ipython2",
   "version": "2.7.14"
  }
 },
 "nbformat": 4,
 "nbformat_minor": 2
}
