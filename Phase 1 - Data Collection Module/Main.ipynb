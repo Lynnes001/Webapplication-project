{
 "cells": [
  {
   "cell_type": "code",
   "execution_count": 32,
   "metadata": {},
   "outputs": [],
   "source": [
    "import sys \n",
    "sys.path.append('Xin_Yang_Historical_Python')\n",
    "sys.path.append('Song_Yang_Realtime_Python')\n",
    "sys.path.append('SQL')\n",
    "\n",
    "\n",
    "import time\n",
    "\n",
    "from Xin_Yang_Historical_Data import getHistoricalData, getURL\n",
    "from Song_Yang_Realtime_Data import getRealtimeStock\n",
    "# import mysql_functions"
   ]
  },
  {
   "cell_type": "code",
   "execution_count": 34,
   "metadata": {},
   "outputs": [
    {
     "name": "stdout",
     "output_type": "stream",
     "text": [
      "['NFLX', u'Netflix, Inc.', 290.39, 1519939617.789]\n",
      "['NFLX', u'Netflix, Inc.', 290.39, 1519939619.18]\n",
      "['NFLX', u'Netflix, Inc.', 290.39, 1519939620.564]\n",
      "['NFLX', u'Netflix, Inc.', 290.39, 1519939622.604]\n",
      "['NFLX', u'Netflix, Inc.', 290.39, 1519939623.98]\n",
      "['NFLX', u'Netflix, Inc.', 290.39, 1519939625.484]\n",
      "['NFLX', u'Netflix, Inc.', 290.39, 1519939627.271]\n"
     ]
    },
    {
     "ename": "KeyboardInterrupt",
     "evalue": "",
     "output_type": "error",
     "traceback": [
      "\u001b[1;31m\u001b[0m",
      "\u001b[1;31mKeyboardInterrupt\u001b[0mTraceback (most recent call last)",
      "\u001b[1;32m<ipython-input-34-a4bf1e4c7c82>\u001b[0m in \u001b[0;36m<module>\u001b[1;34m()\u001b[0m\n\u001b[0;32m      4\u001b[0m     \u001b[0mrealtimeInfo\u001b[0m \u001b[1;33m=\u001b[0m \u001b[0mgetRealtimeStock\u001b[0m\u001b[1;33m(\u001b[0m\u001b[1;34m\"NFLX\"\u001b[0m\u001b[1;33m)\u001b[0m\u001b[1;33m\u001b[0m\u001b[0m\n\u001b[0;32m      5\u001b[0m     \u001b[1;32mprint\u001b[0m \u001b[0mrealtimeInfo\u001b[0m\u001b[1;33m\u001b[0m\u001b[0m\n\u001b[1;32m----> 6\u001b[1;33m     \u001b[0mtime\u001b[0m\u001b[1;33m.\u001b[0m\u001b[0msleep\u001b[0m\u001b[1;33m(\u001b[0m\u001b[1;36m1\u001b[0m\u001b[1;33m)\u001b[0m\u001b[1;33m\u001b[0m\u001b[0m\n\u001b[0m",
      "\u001b[1;31mKeyboardInterrupt\u001b[0m: "
     ]
    }
   ],
   "source": [
    "# realtime 1s interval\n",
    "prevdata = 0\n",
    "for i in range(100):\n",
    "    realtimeInfo = getRealtimeStock(\"NFLX\")\n",
    "    print realtimeInfo\n",
    "    time.sleep(1)"
   ]
  },
  {
   "cell_type": "code",
   "execution_count": 27,
   "metadata": {},
   "outputs": [
    {
     "name": "stdout",
     "output_type": "stream",
     "text": [
      "(290.39, 'Thu Mar 01 16:23:18 2018')\n"
     ]
    },
    {
     "ename": "KeyboardInterrupt",
     "evalue": "",
     "output_type": "error",
     "traceback": [
      "\u001b[1;31m\u001b[0m",
      "\u001b[1;31mKeyboardInterrupt\u001b[0mTraceback (most recent call last)",
      "\u001b[1;32m<ipython-input-27-ddfade0a37b7>\u001b[0m in \u001b[0;36m<module>\u001b[1;34m()\u001b[0m\n\u001b[0;32m      6\u001b[0m         \u001b[0mprevdata\u001b[0m \u001b[1;33m=\u001b[0m \u001b[0mrealtimeInfo\u001b[0m\u001b[1;33m[\u001b[0m\u001b[1;36m2\u001b[0m\u001b[1;33m]\u001b[0m\u001b[1;33m\u001b[0m\u001b[0m\n\u001b[0;32m      7\u001b[0m         \u001b[1;32mprint\u001b[0m \u001b[1;33m(\u001b[0m\u001b[0mprevdata\u001b[0m\u001b[1;33m,\u001b[0m \u001b[0mtime\u001b[0m\u001b[1;33m.\u001b[0m\u001b[0masctime\u001b[0m\u001b[1;33m(\u001b[0m \u001b[0mtime\u001b[0m\u001b[1;33m.\u001b[0m\u001b[0mlocaltime\u001b[0m\u001b[1;33m(\u001b[0m\u001b[0mrealtimeInfo\u001b[0m\u001b[1;33m[\u001b[0m\u001b[1;36m3\u001b[0m\u001b[1;33m]\u001b[0m\u001b[1;33m)\u001b[0m\u001b[1;33m)\u001b[0m \u001b[1;33m)\u001b[0m\u001b[1;33m\u001b[0m\u001b[0m\n\u001b[1;32m----> 8\u001b[1;33m     \u001b[0mtime\u001b[0m\u001b[1;33m.\u001b[0m\u001b[0msleep\u001b[0m\u001b[1;33m(\u001b[0m\u001b[1;36m1\u001b[0m\u001b[1;33m)\u001b[0m\u001b[1;33m\u001b[0m\u001b[0m\n\u001b[0m",
      "\u001b[1;31mKeyboardInterrupt\u001b[0m: "
     ]
    }
   ],
   "source": [
    "# realtime 60s interval\n",
    "prevdata = 0\n",
    "for i in range(100):\n",
    "    realtimeInfo = getRealtimeStock(\"NFLX\")\n",
    "    if ( prevdata != realtimeInfo[2] ):\n",
    "        prevdata = realtimeInfo[2]\n",
    "        print (prevdata, time.asctime( time.localtime(realtimeInfo[3])) )\n",
    "    time.sleep(1)"
   ]
  },
  {
   "cell_type": "code",
   "execution_count": null,
   "metadata": {},
   "outputs": [],
   "source": [
    "# historical\n",
    "google = getHistoricalData(getURL(\"GOOG\"))\n",
    "\n",
    "\n",
    "print len(google) # record numbers\n",
    "#print google\n",
    "print google[0] # first record\n",
    "print google[251] # last record\n",
    "print google[0][1] # date of first record\n",
    "\n",
    "yahoo = getHistoricalData(getURL(\"AABA\"))\n",
    "\n",
    "print len(yahoo)\n",
    "print yahoo[0]\n",
    "print yahoo[251]"
   ]
  }
 ],
 "metadata": {
  "kernelspec": {
   "display_name": "Python 2",
   "language": "python",
   "name": "python2"
  },
  "language_info": {
   "codemirror_mode": {
    "name": "ipython",
    "version": 2
   },
   "file_extension": ".py",
   "mimetype": "text/x-python",
   "name": "python",
   "nbconvert_exporter": "python",
   "pygments_lexer": "ipython2",
   "version": "2.7.14"
  }
 },
 "nbformat": 4,
 "nbformat_minor": 2
}
