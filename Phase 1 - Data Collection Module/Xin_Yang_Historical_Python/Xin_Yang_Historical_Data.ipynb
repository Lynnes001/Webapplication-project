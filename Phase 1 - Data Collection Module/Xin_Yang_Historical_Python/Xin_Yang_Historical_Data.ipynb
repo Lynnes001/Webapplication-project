{
 "cells": [
  {
   "cell_type": "code",
   "execution_count": 1,
   "metadata": {
    "collapsed": true
   },
   "outputs": [],
   "source": [
    "from urllib import urlopen\n",
    "from bs4 import BeautifulSoup\n",
    "from selenium import webdriver\n",
    "import numpy as np\n",
    "import time"
   ]
  },
  {
   "cell_type": "code",
   "execution_count": 2,
   "metadata": {
    "collapsed": true
   },
   "outputs": [],
   "source": [
    "# call selenium and chromedriver to get driver\n",
    "def driveChrome(url):\n",
    "    driver = webdriver.Chrome('/Users/yx960203/Desktop/chromedriver') # CHANGE THE DRIVER TYPE and PATH HERE!!\n",
    "\n",
    "    # mimic mouse operation to scroll down and show the full page\n",
    "    driver.get(url)\n",
    "    driver.execute_script(\"window.scrollBy(0,3000)\")\n",
    "    time.sleep(0.1)\n",
    "    driver.execute_script(\"window.scrollBy(0,5000)\")\n",
    "    time.sleep(0.1)\n",
    "    driver.execute_script(\"window.scrollBy(0,5000)\")\n",
    "    time.sleep(0.1)\n",
    "    driver.execute_script(\"window.scrollBy(0,5000)\")\n",
    "    time.sleep(0.1)\n",
    "    driver.execute_script(\"window.scrollBy(0,5000)\")\n",
    "    time.sleep(0.1)\n",
    "    \n",
    "    return driver"
   ]
  },
  {
   "cell_type": "code",
   "execution_count": 3,
   "metadata": {
    "collapsed": true
   },
   "outputs": [],
   "source": [
    "# resolve html to soup\n",
    "def getSoup(url, driver):\n",
    "    response = urlopen(url)\n",
    "    html = response.read()\n",
    "    soup = BeautifulSoup(driver.page_source, \"lxml\")\n",
    "    return soup;"
   ]
  },
  {
   "cell_type": "code",
   "execution_count": 4,
   "metadata": {
    "collapsed": true
   },
   "outputs": [],
   "source": [
    "def getHistoricalData(url):\n",
    "    driver  = driveChrome(url)\n",
    "    soup = getSoup(url,driver)\n",
    "    # get dates\n",
    "    days = soup.find_all(\"td\", class_ = \"Py(10px) Ta(start) Pend(10px)\") # <td class=\"Py(10px) Ta(start) Pend(10px)\"><span>Feb 28, 2018</span></td>\n",
    "    dates = []\n",
    "    for day in days:\n",
    "        dates.append(day.text)\n",
    "    \n",
    "    # get prices and volume\n",
    "    elements = soup.find_all(\"td\", class_ = \"Py(10px) Pstart(10px)\") # <td class=\"Py(10px) Pstart(10px)\"><span>1,123.03</span></td>\n",
    "\n",
    "    openp = [] # open price\n",
    "    highp = [] # high price\n",
    "    lowp = [] # low price\n",
    "    closep = [] # close price\n",
    "    adjclosep = [] # adjusted close price\n",
    "    volume = [] # volume\n",
    "    \n",
    "    counter = 0\n",
    "    for element in elements:\n",
    "        #print(element.text)\n",
    "        text = element.text.replace(\",\" , \"\")\n",
    "        counter+=1;\n",
    "        if counter % 6 == 1:\n",
    "            openp.append(float(text))\n",
    "        elif counter % 6 == 2:\n",
    "            highp.append(float(text))\n",
    "        elif counter % 6 == 3:\n",
    "            lowp.append(float(text))\n",
    "        elif counter % 6 == 4:\n",
    "            closep.append(float(text))\n",
    "        elif counter % 6 == 5:\n",
    "            adjclosep.append(float(text))\n",
    "        elif counter % 6 == 0:\n",
    "            volume.append(int(text))\n",
    "    tmp = [dates, openp, highp, lowp, closep, adjclosep, volume]\n",
    "    res = np.stack(tmp,axis = 1)\n",
    "    \n",
    "    return res"
   ]
  },
  {
   "cell_type": "code",
   "execution_count": 5,
   "metadata": {
    "collapsed": true
   },
   "outputs": [],
   "source": [
    "def getURL(stockCode):\n",
    "    return \"https://finance.yahoo.com/quote/\"+ stockCode + \"/history?p=\" + stockCode"
   ]
  },
  {
   "cell_type": "markdown",
   "metadata": {},
   "source": []
  },
  {
   "cell_type": "markdown",
   "metadata": {},
   "source": [
    "------------------------------- ** Examples ** --------------------------------------"
   ]
  },
  {
   "cell_type": "code",
   "execution_count": 6,
   "metadata": {},
   "outputs": [
    {
     "data": {
      "text/plain": [
       "'\\nExample: example = getHistoricalData(getURL(\"yourStockCode\"))\\n\\n\\nexample: records of all year\\nexample[x]: record of day x from today\\n\\nexample[x][0]: date (String)\\nexample[x][1]: open price (float)\\nexample[x][2]: high price (float)\\nexample[x][3]: low price (float)\\nexample[x][4]: close price* (float)\\nexample[x][5]: adjusted close price** (float)\\nexample[x][6]: volume (int)\\n\\nIndex from 0 to 251(252 total).\\n0   is the most recent day(Feb.28.2018)\\n251 is the least recent day(Mar.01.2017)\\nTested Feb.28.2018 by Xin Yang.\\n\\n*Close price adjusted for splits. **Adjusted close price adjusted for both dividends and splits.\\n'"
      ]
     },
     "execution_count": 6,
     "metadata": {},
     "output_type": "execute_result"
    }
   ],
   "source": [
    "\"\"\"\n",
    "Example: example = getHistoricalData(getURL(\"yourStockCode\"))\n",
    "\n",
    "\n",
    "example: records of all year\n",
    "example[x]: record of day x from today\n",
    "\n",
    "example[x][0]: date (String)\n",
    "example[x][1]: open price (float)\n",
    "example[x][2]: high price (float)\n",
    "example[x][3]: low price (float)\n",
    "example[x][4]: close price* (float)\n",
    "example[x][5]: adjusted close price** (float)\n",
    "example[x][6]: volume (int)\n",
    "\n",
    "Index from 0 to 251(252 total).\n",
    "0   is the most recent day(Feb.28.2018)\n",
    "251 is the least recent day(Mar.01.2017)\n",
    "Tested Feb.28.2018 by Xin Yang.\n",
    "\n",
    "*Close price adjusted for splits. **Adjusted close price adjusted for both dividends and splits.\n",
    "\"\"\""
   ]
  },
  {
   "cell_type": "code",
   "execution_count": 7,
   "metadata": {
    "collapsed": true
   },
   "outputs": [],
   "source": [
    "google = getHistoricalData(getURL(\"GOOG\"))"
   ]
  },
  {
   "cell_type": "code",
   "execution_count": 8,
   "metadata": {},
   "outputs": [
    {
     "name": "stdout",
     "output_type": "stream",
     "text": [
      "252\n",
      "[u'Feb 28, 2018' u'1123.03' u'1127.53' u'1103.24' u'1104.73' u'1104.73'\n",
      " u'1869600']\n",
      "[u'Mar 01, 2017' u'828.85' u'836.26' u'827.26' u'835.24' u'835.24'\n",
      " u'1496500']\n",
      "1123.03\n"
     ]
    }
   ],
   "source": [
    "print len(google) # record numbers\n",
    "#print google\n",
    "print google[0] # first record\n",
    "print google[251] # last record\n",
    "print google[0][1] # date of first record"
   ]
  },
  {
   "cell_type": "code",
   "execution_count": 9,
   "metadata": {
    "collapsed": true
   },
   "outputs": [],
   "source": [
    "yahoo = getHistoricalData(getURL(\"AABA\"))"
   ]
  },
  {
   "cell_type": "code",
   "execution_count": 10,
   "metadata": {},
   "outputs": [
    {
     "name": "stdout",
     "output_type": "stream",
     "text": [
      "252\n",
      "[u'Feb 28, 2018' u'75.91' u'76.08' u'74.51' u'74.85' u'74.85' u'8228400']\n",
      "[u'Mar 01, 2017' u'45.89' u'46.41' u'45.89' u'46.24' u'46.24' u'7258500']\n"
     ]
    }
   ],
   "source": [
    "print len(yahoo)\n",
    "print yahoo[0]\n",
    "print yahoo[251]"
   ]
  },
  {
   "cell_type": "code",
   "execution_count": null,
   "metadata": {
    "collapsed": true
   },
   "outputs": [],
   "source": []
  }
 ],
 "metadata": {
  "kernelspec": {
   "display_name": "Python 2",
   "language": "python",
   "name": "python2"
  },
  "language_info": {
   "codemirror_mode": {
    "name": "ipython",
    "version": 2
   },
   "file_extension": ".py",
   "mimetype": "text/x-python",
   "name": "python",
   "nbconvert_exporter": "python",
   "pygments_lexer": "ipython2",
   "version": "2.7.14"
  }
 },
 "nbformat": 4,
 "nbformat_minor": 2
}
