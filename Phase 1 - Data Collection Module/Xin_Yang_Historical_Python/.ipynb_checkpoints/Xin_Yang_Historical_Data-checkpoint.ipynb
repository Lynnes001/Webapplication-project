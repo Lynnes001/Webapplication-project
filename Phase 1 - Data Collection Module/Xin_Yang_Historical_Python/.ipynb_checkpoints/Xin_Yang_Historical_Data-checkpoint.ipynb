{
 "cells": [
  {
   "cell_type": "code",
   "execution_count": 154,
   "metadata": {
    "collapsed": true
   },
   "outputs": [],
   "source": [
    "import sys\n",
    "sys.path.append('../SQL')\n",
    "from urllib import urlopen\n",
    "from bs4 import BeautifulSoup\n",
    "from selenium import webdriver\n",
    "import numpy as np\n",
    "import time\n",
    "import datetime\n",
    "import MySQLdb"
   ]
  },
  {
   "cell_type": "code",
   "execution_count": 155,
   "metadata": {
    "collapsed": true
   },
   "outputs": [],
   "source": [
    "# call selenium and chromedriver to get driver\n",
    "def driveChrome(url):\n",
    "    driver = webdriver.Chrome('./chromedriver') # CHANGE THE DRIVER TYPE and PATH HERE!!\n",
    "\n",
    "    # mimic mouse operation to scroll down and show the full page\n",
    "    driver.get(url)\n",
    "    driver.execute_script(\"window.scrollBy(0,3000)\")\n",
    "    time.sleep(0.1)\n",
    "    driver.execute_script(\"window.scrollBy(0,5000)\")\n",
    "    time.sleep(0.1)\n",
    "    driver.execute_script(\"window.scrollBy(0,5000)\")\n",
    "    time.sleep(0.1)\n",
    "    driver.execute_script(\"window.scrollBy(0,5000)\")\n",
    "    time.sleep(0.1)\n",
    "    driver.execute_script(\"window.scrollBy(0,5000)\")\n",
    "    time.sleep(0.1)\n",
    "    \n",
    "    return driver"
   ]
  },
  {
   "cell_type": "code",
   "execution_count": 156,
   "metadata": {
    "collapsed": true
   },
   "outputs": [],
   "source": [
    "# resolve html to soup\n",
    "def getSoup(url, driver):\n",
    "    response = urlopen(url)\n",
    "    html = response.read()\n",
    "    soup = BeautifulSoup(driver.page_source, \"lxml\")\n",
    "    return soup;"
   ]
  },
  {
   "cell_type": "code",
   "execution_count": 157,
   "metadata": {
    "collapsed": true
   },
   "outputs": [],
   "source": [
    "# transfer month into number\n",
    "def transMon(day):\n",
    "    monf = day.text.split(\" \"); # monf[0] - Jan - Dec    \n",
    "    #Jan 04, 2018\n",
    "    mon = \"00\"\n",
    "    if monf[0] == \"Jan\":\n",
    "        mon = \"01\"\n",
    "    elif monf[0] == \"Feb\":\n",
    "        mon = \"02\"\n",
    "    elif monf[0] == \"Mar\":\n",
    "        mon = \"03\"            \n",
    "    elif monf[0] == \"Apr\":\n",
    "        mon = \"04\"            \n",
    "    elif monf[0] == \"May\":\n",
    "        mon = \"05\"            \n",
    "    elif monf[0] == \"Jun\":\n",
    "        mon = \"06\"            \n",
    "    elif monf[0] == \"Jul\":\n",
    "        mon = \"07\"            \n",
    "    elif monf[0] == \"Aug\":\n",
    "        mon = \"08\"\n",
    "    elif monf[0] == \"Sep\":\n",
    "        mon = \"09\"        \n",
    "    elif monf[0] == \"Oct\":\n",
    "        mon = \"10\"\n",
    "    elif monf[0] == \"Nov\":\n",
    "        mon = \"11\"            \n",
    "    elif monf[0] == \"Dec\":\n",
    "        mon = \"12\"     \n",
    "        \n",
    "    dayf = monf[1].strip(',')\n",
    "    resdate = monf[2]+\"-\"+mon+\"-\"+dayf\n",
    "    return resdate  "
   ]
  },
  {
   "cell_type": "code",
   "execution_count": null,
   "metadata": {
    "collapsed": true
   },
   "outputs": [],
   "source": []
  },
  {
   "cell_type": "code",
   "execution_count": 158,
   "metadata": {
    "collapsed": true
   },
   "outputs": [],
   "source": [
    "def getHistoricalData(stockCode):\n",
    "    url = getURL(stockCode)\n",
    "    driver  = driveChrome(url)\n",
    "    soup = getSoup(url,driver)\n",
    "    # quit selenium driver\n",
    "    driver.quit()\n",
    "    \n",
    "    # get dates\n",
    "    days = soup.find_all(\"td\", class_ = \"Py(10px) Ta(start) Pend(10px)\") # <td class=\"Py(10px) Ta(start) Pend(10px)\"><span>Feb 28, 2018</span></td>\n",
    "    dates = []        \n",
    "    for day in days:\n",
    "        day = transMon(day)\n",
    "        #print(day)\n",
    "        dates.append(day)\n",
    "    \n",
    "    \n",
    "    # delete invalid date\n",
    "    bad = []\n",
    "    tr = soup.find_all(\"tr\", class_ = \"BdT Bdc($c-fuji-grey-c) Ta(end) Fz(s) Whs(nw)\")\n",
    "\n",
    "    for inner in tr:\n",
    "        badi = inner.find(\"td\", class_ = \"Ta(c) Py(10px) Pstart(10px)\")\n",
    "        if badi:\n",
    "            #print(bad.text)\n",
    "            badparent = badi.find_parent()\n",
    "            baddate = badparent.find(\"td\", class_ = \"Py(10px) Ta(start) Pend(10px)\")\n",
    "            bad.append(transMon(baddate))\n",
    "\n",
    "    for baditem in bad:\n",
    "        dates.remove(baditem)\n",
    "    \n",
    "    # get prices and volume\n",
    "    elements = soup.find_all(\"td\", class_ = \"Py(10px) Pstart(10px)\") # <td class=\"Py(10px) Pstart(10px)\"><span>1,123.03</span></td>\n",
    "\n",
    "    openp = [] # open price\n",
    "    highp = [] # high price\n",
    "    lowp = [] # low price\n",
    "    closep = [] # close price\n",
    "    adjclosep = [] # adjusted close price\n",
    "    volume = [] # volume\n",
    "    \n",
    "    \n",
    "    counter = 0\n",
    "    for element in elements:\n",
    "        #print(element.text)\n",
    "        text = element.text.replace(\",\" , \"\")\n",
    "        counter+=1;\n",
    "        if counter % 6 == 1:\n",
    "            openp.append(float(text))\n",
    "        elif counter % 6 == 2:\n",
    "            highp.append(float(text))\n",
    "        elif counter % 6 == 3:\n",
    "            lowp.append(float(text))\n",
    "        elif counter % 6 == 4:\n",
    "            closep.append(float(text))\n",
    "        elif counter % 6 == 5:\n",
    "            adjclosep.append(float(text))\n",
    "        elif counter % 6 == 0:\n",
    "            volume.append(int(text))\n",
    "     \n",
    "    # generate symbol column\n",
    "    num = len(volume)\n",
    "    symbols = []\n",
    "    for i in range(0,num):\n",
    "        symbols.append(stockCode)        \n",
    "    \n",
    "    print(len(symbols), len(dates), len(openp), len(highp), len(lowp), len(closep), len(adjclosep), len(volume))\n",
    "    tmp = [symbols,dates, openp, highp, lowp, closep, adjclosep, volume]\n",
    "    res = np.stack(tmp,axis = 1)\n",
    "      \n",
    "    # insert into database\n",
    "    for record in res:\n",
    "        dbInsertHistoryTime(record)\n",
    "    \n",
    "    return res"
   ]
  },
  {
   "cell_type": "code",
   "execution_count": 159,
   "metadata": {
    "collapsed": true
   },
   "outputs": [],
   "source": [
    "# generate Yahoo Finance url\n",
    "def getURL(stockCode):\n",
    "    return \"https://finance.yahoo.com/quote/\"+ stockCode + \"/history?p=\" + stockCode"
   ]
  },
  {
   "cell_type": "code",
   "execution_count": 160,
   "metadata": {
    "collapsed": true
   },
   "outputs": [],
   "source": [
    "# insert data into database\n",
    "def dbInsertHistoryTime(list):\n",
    "    db = MySQLdb.connect(\"127.0.0.1\", \"root\", \"passwd\", \"stockDB\") # Change your database info here!\n",
    "    cursor = db.cursor()\n",
    "    sql = \"INSERT INTO History_Time_Data(symbol, stock_date, open_price, high_price, low_price, close_price, adj_close, volume) VALUES(\" + \"'\"+list[0] + \"',\" + \"'\" + list[1] + \"'\" + \",\" + list[2] + \",\" + list[3] + \",\" + list[4] + \",\" + list[5] + \",\" + list[6] + \",\" + list[7] + \")\" + \";\"\n",
    "    try:\n",
    "        cursor.execute(sql)\n",
    "        db.commit()\n",
    "    except:\n",
    "        db.rollback()\n",
    "        print(\"Insert historical data Failed!\")\n",
    "    db.close()"
   ]
  },
  {
   "cell_type": "markdown",
   "metadata": {},
   "source": [
    "------------------------------- ** Examples ** --------------------------------------"
   ]
  },
  {
   "cell_type": "code",
   "execution_count": 161,
   "metadata": {},
   "outputs": [
    {
     "data": {
      "text/plain": [
       "'\\nExample: example = getHistoricalData(\"yourStockCode\")\\n\\n\\nexample: records of all year\\nexample[x]: record of day x from today\\n\\nexample[x][0]: date (String)\\nexample[x][1]: open price (float)\\nexample[x][2]: high price (float)\\nexample[x][3]: low price (float)\\nexample[x][4]: close price* (float)\\nexample[x][5]: adjusted close price** (float)\\nexample[x][6]: volume (int)\\n\\nIndex from 0 to 251(252 total).\\n0   is the most recent day(Feb.28.2018)\\n251 is the least recent day(Mar.01.2017)\\nTested Feb.28.2018 by Xin Yang.\\n\\n*Close price adjusted for splits. **Adjusted close price adjusted for both dividends and splits.\\n'"
      ]
     },
     "execution_count": 161,
     "metadata": {},
     "output_type": "execute_result"
    }
   ],
   "source": [
    "\"\"\"\n",
    "Example: example = getHistoricalData(\"yourStockCode\")\n",
    "\n",
    "\n",
    "example: records of all year\n",
    "example[x]: record of day x from today\n",
    "\n",
    "example[x][0]: date (String)\n",
    "example[x][1]: open price (float)\n",
    "example[x][2]: high price (float)\n",
    "example[x][3]: low price (float)\n",
    "example[x][4]: close price* (float)\n",
    "example[x][5]: adjusted close price** (float)\n",
    "example[x][6]: volume (int)\n",
    "\n",
    "Index from 0 to 251(252 total).\n",
    "0   is the most recent day(Feb.28.2018)\n",
    "251 is the least recent day(Mar.01.2017)\n",
    "Tested Feb.28.2018 by Xin Yang.\n",
    "\n",
    "*Close price adjusted for splits. **Adjusted close price adjusted for both dividends and splits.\n",
    "\"\"\""
   ]
  },
  {
   "cell_type": "code",
   "execution_count": 162,
   "metadata": {},
   "outputs": [
    {
     "name": "stdout",
     "output_type": "stream",
     "text": [
      "(251, 251, 251, 251, 251, 251, 251, 251)\n"
     ]
    },
    {
     "data": {
      "text/plain": [
       "array([[u'GOOG', u'2018-03-01', u'1107.87', ..., u'1069.52', u'1069.52',\n",
       "        u'2452400'],\n",
       "       [u'GOOG', u'2018-02-28', u'1123.03', ..., u'1104.73', u'1104.73',\n",
       "        u'1882600'],\n",
       "       [u'GOOG', u'2018-02-27', u'1141.24', ..., u'1118.29', u'1118.29',\n",
       "        u'1774100'],\n",
       "       ..., \n",
       "       [u'GOOG', u'2017-03-07', u'827.4', ..., u'831.91', u'831.91',\n",
       "        u'1037600'],\n",
       "       [u'GOOG', u'2017-03-06', u'826.95', ..., u'827.78', u'827.78',\n",
       "        u'1109000'],\n",
       "       [u'GOOG', u'2017-03-03', u'830.56', ..., u'829.08', u'829.08',\n",
       "        u'896400']],\n",
       "      dtype='<U32')"
      ]
     },
     "execution_count": 162,
     "metadata": {},
     "output_type": "execute_result"
    }
   ],
   "source": [
    "getHistoricalData(\"GOOG\")    "
   ]
  },
  {
   "cell_type": "code",
   "execution_count": 163,
   "metadata": {
    "scrolled": true
   },
   "outputs": [
    {
     "name": "stdout",
     "output_type": "stream",
     "text": [
      "(251, 251, 251, 251, 251, 251, 251, 251)\n"
     ]
    },
    {
     "data": {
      "text/plain": [
       "array([[u'AABA', u'2018-03-01', u'75.04', ..., u'73.74', u'73.74',\n",
       "        u'9719900'],\n",
       "       [u'AABA', u'2018-02-28', u'75.91', ..., u'74.85', u'74.85',\n",
       "        u'8566500'],\n",
       "       [u'AABA', u'2018-02-27', u'77.86', ..., u'76.13', u'76.13',\n",
       "        u'12425700'],\n",
       "       ..., \n",
       "       [u'AABA', u'2017-03-07', u'45.5', ..., u'45.73', u'45.73',\n",
       "        u'5116800'],\n",
       "       [u'AABA', u'2017-03-06', u'45.61', ..., u'45.64', u'45.64',\n",
       "        u'6694900'],\n",
       "       [u'AABA', u'2017-03-03', u'45.88', ..., u'45.91', u'45.91',\n",
       "        u'6758300']],\n",
       "      dtype='<U32')"
      ]
     },
     "execution_count": 163,
     "metadata": {},
     "output_type": "execute_result"
    }
   ],
   "source": [
    "getHistoricalData(\"AABA\")"
   ]
  },
  {
   "cell_type": "code",
   "execution_count": 164,
   "metadata": {},
   "outputs": [
    {
     "name": "stdout",
     "output_type": "stream",
     "text": [
      "(251, 251, 251, 251, 251, 251, 251, 251)\n"
     ]
    },
    {
     "data": {
      "text/plain": [
       "array([[u'CSCO', u'2018-03-01', u'44.68', ..., u'43.8', u'43.8',\n",
       "        u'32002200'],\n",
       "       [u'CSCO', u'2018-02-28', u'45.27', ..., u'44.78', u'44.78',\n",
       "        u'26885200'],\n",
       "       [u'CSCO', u'2018-02-27', u'45.41', ..., u'45.04', u'45.04',\n",
       "        u'27419300'],\n",
       "       ..., \n",
       "       [u'CSCO', u'2017-03-07', u'34.0', ..., u'34.2', u'33.06',\n",
       "        u'21033700'],\n",
       "       [u'CSCO', u'2017-03-06', u'34.04', ..., u'34.19', u'33.05',\n",
       "        u'17605100'],\n",
       "       [u'CSCO', u'2017-03-03', u'34.42', ..., u'34.29', u'33.14',\n",
       "        u'14175000']],\n",
       "      dtype='<U32')"
      ]
     },
     "execution_count": 164,
     "metadata": {},
     "output_type": "execute_result"
    }
   ],
   "source": [
    "getHistoricalData(\"CSCO\")"
   ]
  },
  {
   "cell_type": "code",
   "execution_count": 165,
   "metadata": {},
   "outputs": [
    {
     "name": "stdout",
     "output_type": "stream",
     "text": [
      "(251, 251, 251, 251, 251, 251, 251, 251)\n"
     ]
    },
    {
     "data": {
      "text/plain": [
       "array([[u'T', u'2018-03-01', u'36.31', ..., u'36.0', u'36.0', u'28413500'],\n",
       "       [u'T', u'2018-02-28', u'37.18', ..., u'36.3', u'36.3', u'29281700'],\n",
       "       [u'T', u'2018-02-27', u'37.42', ..., u'36.87', u'36.87', u'21420600'],\n",
       "       ..., \n",
       "       [u'T', u'2017-03-07', u'41.9', ..., u'41.88', u'39.82', u'16250900'],\n",
       "       [u'T', u'2017-03-06', u'41.83', ..., u'41.96', u'39.9', u'14177000'],\n",
       "       [u'T', u'2017-03-03', u'42.05', ..., u'42.01', u'39.94', u'17179400']],\n",
       "      dtype='<U32')"
      ]
     },
     "execution_count": 165,
     "metadata": {},
     "output_type": "execute_result"
    }
   ],
   "source": [
    "getHistoricalData(\"T\")"
   ]
  },
  {
   "cell_type": "code",
   "execution_count": 166,
   "metadata": {},
   "outputs": [
    {
     "name": "stdout",
     "output_type": "stream",
     "text": [
      "(251, 251, 251, 251, 251, 251, 251, 251)\n"
     ]
    },
    {
     "data": {
      "text/plain": [
       "array([[u'WMT', u'2018-03-01', u'90.17', ..., u'89.08', u'89.08',\n",
       "        u'18680300'],\n",
       "       [u'WMT', u'2018-02-28', u'92.0', ..., u'90.01', u'90.01',\n",
       "        u'14143700'],\n",
       "       [u'WMT', u'2018-02-27', u'93.63', ..., u'91.52', u'91.52',\n",
       "        u'13376100'],\n",
       "       ..., \n",
       "       [u'WMT', u'2017-03-07', u'69.9', ..., u'69.87', u'68.11', u'7282900'],\n",
       "       [u'WMT', u'2017-03-06', u'70.0', ..., u'69.88', u'68.12', u'9182600'],\n",
       "       [u'WMT', u'2017-03-03', u'70.76', ..., u'70.03', u'68.27',\n",
       "        u'9297900']],\n",
       "      dtype='<U32')"
      ]
     },
     "execution_count": 166,
     "metadata": {},
     "output_type": "execute_result"
    }
   ],
   "source": [
    "getHistoricalData(\"WMT\")"
   ]
  },
  {
   "cell_type": "code",
   "execution_count": 167,
   "metadata": {},
   "outputs": [
    {
     "name": "stdout",
     "output_type": "stream",
     "text": [
      "(251, 251, 251, 251, 251, 251, 251, 251)\n"
     ]
    },
    {
     "data": {
      "text/plain": [
       "array([[u'NOK', u'2018-03-01', u'5.77', ..., u'5.76', u'5.76', u'16202200'],\n",
       "       [u'NOK', u'2018-02-28', u'5.88', ..., u'5.8', u'5.8', u'11084300'],\n",
       "       [u'NOK', u'2018-02-27', u'5.91', ..., u'5.87', u'5.87', u'17203900'],\n",
       "       ..., \n",
       "       [u'NOK', u'2017-03-07', u'5.23', ..., u'5.23', u'5.08', u'8366700'],\n",
       "       [u'NOK', u'2017-03-06', u'5.29', ..., u'5.28', u'5.13', u'7381800'],\n",
       "       [u'NOK', u'2017-03-03', u'5.26', ..., u'5.28', u'5.13', u'11993000']],\n",
       "      dtype='<U32')"
      ]
     },
     "execution_count": 167,
     "metadata": {},
     "output_type": "execute_result"
    }
   ],
   "source": [
    "getHistoricalData(\"NOK\")"
   ]
  },
  {
   "cell_type": "code",
   "execution_count": 168,
   "metadata": {},
   "outputs": [
    {
     "name": "stdout",
     "output_type": "stream",
     "text": [
      "(251, 251, 251, 251, 251, 251, 251, 251)\n"
     ]
    },
    {
     "data": {
      "text/plain": [
       "array([[u'NFLX', u'2018-03-01', u'292.75', ..., u'290.39', u'290.39',\n",
       "        u'11816300'],\n",
       "       [u'NFLX', u'2018-02-28', u'293.1', ..., u'291.38', u'291.38',\n",
       "        u'7653500'],\n",
       "       [u'NFLX', u'2018-02-27', u'294.77', ..., u'290.61', u'290.61',\n",
       "        u'9416500'],\n",
       "       ..., \n",
       "       [u'NFLX', u'2017-03-07', u'141.99', ..., u'141.43', u'141.43',\n",
       "        u'4241000'],\n",
       "       [u'NFLX', u'2017-03-06', u'141.0', ..., u'141.94', u'141.94',\n",
       "        u'7116100'],\n",
       "       [u'NFLX', u'2017-03-03', u'139.69', ..., u'139.14', u'139.14',\n",
       "        u'5399800']],\n",
       "      dtype='<U32')"
      ]
     },
     "execution_count": 168,
     "metadata": {},
     "output_type": "execute_result"
    }
   ],
   "source": [
    "getHistoricalData(\"NFLX\")"
   ]
  },
  {
   "cell_type": "code",
   "execution_count": 169,
   "metadata": {},
   "outputs": [
    {
     "name": "stdout",
     "output_type": "stream",
     "text": [
      "(251, 251, 251, 251, 251, 251, 251, 251)\n"
     ]
    },
    {
     "data": {
      "text/plain": [
       "array([[u'APA', u'2018-03-01', u'34.24', ..., u'34.27', u'34.27',\n",
       "        u'5859300'],\n",
       "       [u'APA', u'2018-02-28', u'35.0', ..., u'34.15', u'34.15', u'8278800'],\n",
       "       [u'APA', u'2018-02-27', u'35.89', ..., u'34.8', u'34.8', u'5756600'],\n",
       "       ..., \n",
       "       [u'APA', u'2017-03-07', u'52.37', ..., u'51.28', u'50.19',\n",
       "        u'3375300'],\n",
       "       [u'APA', u'2017-03-06', u'52.07', ..., u'52.19', u'51.08',\n",
       "        u'2125400'],\n",
       "       [u'APA', u'2017-03-03', u'52.02', ..., u'52.09', u'50.98',\n",
       "        u'2856900']],\n",
       "      dtype='<U32')"
      ]
     },
     "execution_count": 169,
     "metadata": {},
     "output_type": "execute_result"
    }
   ],
   "source": [
    "getHistoricalData(\"APA\")"
   ]
  },
  {
   "cell_type": "code",
   "execution_count": 170,
   "metadata": {},
   "outputs": [
    {
     "name": "stdout",
     "output_type": "stream",
     "text": [
      "(251, 251, 251, 251, 251, 251, 251, 251)\n"
     ]
    },
    {
     "data": {
      "text/plain": [
       "array([[u'NKE', u'2018-03-01', u'67.24', ..., u'66.32', u'66.12',\n",
       "        u'7262800'],\n",
       "       [u'NKE', u'2018-02-28', u'68.1', ..., u'67.03', u'66.83', u'6091800'],\n",
       "       [u'NKE', u'2018-02-27', u'70.0', ..., u'68.03', u'67.82', u'6843100'],\n",
       "       ..., \n",
       "       [u'NKE', u'2017-03-07', u'56.71', ..., u'56.55', u'55.81',\n",
       "        u'7124400'],\n",
       "       [u'NKE', u'2017-03-06', u'56.7', ..., u'56.77', u'56.03', u'6896800'],\n",
       "       [u'NKE', u'2017-03-03', u'57.8', ..., u'56.7', u'55.96', u'9181600']],\n",
       "      dtype='<U32')"
      ]
     },
     "execution_count": 170,
     "metadata": {},
     "output_type": "execute_result"
    }
   ],
   "source": [
    "getHistoricalData(\"NKE\")"
   ]
  },
  {
   "cell_type": "code",
   "execution_count": 171,
   "metadata": {},
   "outputs": [
    {
     "name": "stdout",
     "output_type": "stream",
     "text": [
      "(251, 251, 251, 251, 251, 251, 251, 251)\n"
     ]
    },
    {
     "data": {
      "text/plain": [
       "array([[u'GE', u'2018-03-01', u'14.16', ..., u'14.02', u'14.02',\n",
       "        u'90084900'],\n",
       "       [u'GE', u'2018-02-28', u'14.6', ..., u'14.11', u'14.11', u'88614100'],\n",
       "       [u'GE', u'2018-02-27', u'14.67', ..., u'14.5', u'14.5', u'93024000'],\n",
       "       ..., \n",
       "       [u'GE', u'2017-03-07', u'29.93', ..., u'29.86', u'28.88',\n",
       "        u'29982900'],\n",
       "       [u'GE', u'2017-03-06', u'30.0', ..., u'30.0', u'29.01', u'23420600'],\n",
       "       [u'GE', u'2017-03-03', u'30.19', ..., u'30.12', u'29.13',\n",
       "        u'19957000']],\n",
       "      dtype='<U32')"
      ]
     },
     "execution_count": 171,
     "metadata": {},
     "output_type": "execute_result"
    }
   ],
   "source": [
    "getHistoricalData(\"GE\")"
   ]
  },
  {
   "cell_type": "code",
   "execution_count": null,
   "metadata": {
    "collapsed": true
   },
   "outputs": [],
   "source": []
  }
 ],
 "metadata": {
  "kernelspec": {
   "display_name": "Python 2",
   "language": "python",
   "name": "python2"
  },
  "language_info": {
   "codemirror_mode": {
    "name": "ipython",
    "version": 2
   },
   "file_extension": ".py",
   "mimetype": "text/x-python",
   "name": "python",
   "nbconvert_exporter": "python",
   "pygments_lexer": "ipython2",
   "version": "2.7.14"
  }
 },
 "nbformat": 4,
 "nbformat_minor": 2
}
