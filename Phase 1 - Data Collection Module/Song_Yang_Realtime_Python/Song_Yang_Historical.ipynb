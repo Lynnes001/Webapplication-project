{
 "cells": [
  {
   "cell_type": "code",
   "execution_count": 5,
   "metadata": {},
   "outputs": [],
   "source": [
    "import time\n",
    "import requests\n",
    "import json"
   ]
  },
  {
   "cell_type": "code",
   "execution_count": 6,
   "metadata": {},
   "outputs": [],
   "source": [
    "def getRealtimeStock(symbol):\n",
    "    url=getURL(symbol)\n",
    "    resp = requests.get(url)\n",
    "\n",
    "    #parse the section from the html document containing the raw json data that we need\n",
    "    #you can write jsonstr to a file, then open the file in a web browser to browse the structure of the json data\n",
    "    r=resp.text.encode('utf-8')\n",
    "    i1=0\n",
    "    i1=r.find('root.App.main', i1)\n",
    "    i1=r.find('{', i1)\n",
    "    i2=r.find(\"\\n\", i1)\n",
    "    i2=r.rfind(';', i1, i2)\n",
    "    jsonstr=r[i1:i2]\n",
    "\n",
    "\n",
    "    #load the raw json data into a python data object\n",
    "    data = json.loads(jsonstr)\n",
    "\n",
    "    #pull the values that we are interested in \n",
    "    name=data['context']['dispatcher']['stores']['QuoteSummaryStore']['price']['shortName']\n",
    "    price=data['context']['dispatcher']['stores']['QuoteSummaryStore']['price']['regularMarketPrice']['raw']\n",
    "    change=data['context']['dispatcher']['stores']['QuoteSummaryStore']['price']['regularMarketChange']['raw']\n",
    "    shares_outstanding=data['context']['dispatcher']['stores']['QuoteSummaryStore']['defaultKeyStatistics']['sharesOutstanding']['raw']\n",
    "    market_cap=data['context']['dispatcher']['stores']['QuoteSummaryStore']['summaryDetail']['marketCap']['raw']\n",
    "#     trailing_pe=data['context']['dispatcher']['stores']['QuoteSummaryStore']['summaryDetail']['trailingPE']['raw']\n",
    "#     earnings_per_share=data['context']['dispatcher']['stores']['QuoteSummaryStore']['defaultKeyStatistics']['trailingEps']['raw']\n",
    "#     forward_annual_dividend_rate=data['context']['dispatcher']['stores']['QuoteSummaryStore']['summaryDetail']['dividendRate']['raw']\n",
    "#     forward_annual_dividend_yield=data['context']['dispatcher']['stores']['QuoteSummaryStore']['summaryDetail']['dividendYield']['raw']\n",
    "\n",
    "    #print the values\n",
    "#     print 'Symbol:', symbol\n",
    "#     print 'Name:', name\n",
    "#     print 'Price:', price\n",
    "#     print 'Change:', change\n",
    "#     print 'Shares Outstanding:', shares_outstanding\n",
    "#     print 'Market Cap:', market_cap\n",
    "#     print 'Trailing PE:', trailing_pe\n",
    "#     print 'Earnings Per Share:', earnings_per_share\n",
    "#     print 'Forward Annual Dividend Rate:', forward_annual_dividend_rate\n",
    "#     print 'Forward_annual_dividend_yield:', forward_annual_dividend_yield\n",
    "    \n",
    "    res = []\n",
    "    res.append(symbol)\n",
    "    res.append(float(price))\n",
    "    res.append(time.time())\n",
    "    res.append(market_cap)\n",
    "    return res"
   ]
  },
  {
   "cell_type": "code",
   "execution_count": 7,
   "metadata": {},
   "outputs": [],
   "source": [
    "def getURL(stockCode):\n",
    "    return \"https://finance.yahoo.com/quote/\"+ stockCode"
   ]
  },
  {
   "cell_type": "markdown",
   "metadata": {},
   "source": [
    "------------------------------- ** Examples ** --------------------------------------"
   ]
  },
  {
   "cell_type": "code",
   "execution_count": null,
   "metadata": {},
   "outputs": [
    {
     "name": "stdout",
     "output_type": "stream",
     "text": [
      "['NFLX', 290.39, 1519974451.989, 126014169088L]\n"
     ]
    }
   ],
   "source": [
    "# change the stock symbol here\n",
    "# change the sleep interval here\n",
    "#     now is get NFLX stock price every 60 seconds\n",
    "stocksymbol = \"NFLX\"\n",
    "sleepinterval = 60\n",
    "while 1:\n",
    "    realtimeInfo = getRealtimeStock(stocksymbol)\n",
    "    print realtimeInfo\n",
    "    time.sleep(sleepinterval)"
   ]
  },
  {
   "cell_type": "code",
   "execution_count": null,
   "metadata": {},
   "outputs": [],
   "source": []
  }
 ],
 "metadata": {
  "kernelspec": {
   "display_name": "Python 2",
   "language": "python",
   "name": "python2"
  },
  "language_info": {
   "codemirror_mode": {
    "name": "ipython",
    "version": 2
   },
   "file_extension": ".py",
   "mimetype": "text/x-python",
   "name": "python",
   "nbconvert_exporter": "python",
   "pygments_lexer": "ipython2",
   "version": "2.7.14"
  }
 },
 "nbformat": 4,
 "nbformat_minor": 2
}
